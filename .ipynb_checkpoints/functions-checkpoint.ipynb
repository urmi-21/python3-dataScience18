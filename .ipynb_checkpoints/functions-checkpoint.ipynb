{
 "cells": [
  {
   "cell_type": "markdown",
   "metadata": {},
   "source": [
    "<h1><center>Functions</center></h1>\n",
    "## Introduction\n",
    "\n",
    "Functions allow to group a number of statements together is a code block. This code block can then be called from any where in the program as required. Functions allows to create modular code which is easy to reuse. Functions can also take a number of parameters. The value calculated by the function then depends on the parameters supplied at the time of function call. Depending on the function type and definition, a function can return a value of different types. A function returns a value if a *return* statement is included at the end of the function body. If a *return* statement is missing from the function body the function by default returns *None*.\n",
    "\n",
    "In python a function is defined using *def* statement. The general syntax of a function named *functionA* with *N* parameters looks like\n",
    "\n",
    "```\n",
    "def functionA(parameter1,paramenter2,...,parameterN):\n",
    "    statementA\n",
    "    statementB\n",
    "    statementC\n",
    "    .\n",
    "    .\n",
    "    .\n",
    "    statementN\n",
    "    return returnValue\n",
    "```"
   ]
  },
  {
   "cell_type": "code",
   "execution_count": 1,
   "metadata": {},
   "outputs": [
    {
     "name": "stdout",
     "output_type": "stream",
     "text": [
      "Hi, Welcome!\n",
      "Please Enter your name: urmi\n",
      "How are you, urmi\n",
      "Goodbye...\n"
     ]
    }
   ],
   "source": [
    "#this function takes no argument, returns None\n",
    "def printWelcome():\n",
    "    print (\"Hi, Welcome!\")\n",
    "#this function takes no argument, returns a str object\n",
    "def getName():\n",
    "    name=input(\"Please Enter your name: \")\n",
    "    return name\n",
    "#this function takes a str object, returns None\n",
    "def printMessage(name):\n",
    "    print (\"How are you, \"+name)\n",
    "#this function takes no argument, returns None\n",
    "def printGoodbye():\n",
    "    print (\"Goodbye...\")\n",
    "\n",
    "\n",
    "\n",
    "\n",
    "#####Call the functions######\n",
    "printWelcome()\n",
    "user=getName()\n",
    "printMessage(user)\n",
    "printGoodbye()"
   ]
  },
  {
   "cell_type": "markdown",
   "metadata": {},
   "source": [
    "### Lambda functions\n",
    "Lambda functions are anonymous functions which are defined without a name. They are defined using the keyword *lambda* and can take any number of arguments. Lambda functions can be quickly passed on to functions as arguments or can be used inside other functions."
   ]
  },
  {
   "cell_type": "code",
   "execution_count": 9,
   "metadata": {},
   "outputs": [
    {
     "name": "stdout",
     "output_type": "stream",
     "text": [
      "12\n"
     ]
    }
   ],
   "source": [
    "#define a lambda function to add 10\n",
    "\n",
    "add10=lambda x: x+10\n",
    "print(add10(2))"
   ]
  },
  {
   "cell_type": "code",
   "execution_count": 10,
   "metadata": {},
   "outputs": [
    {
     "name": "stdout",
     "output_type": "stream",
     "text": [
      "9\n",
      "30\n",
      "14\n"
     ]
    }
   ],
   "source": [
    "#example use of lambda function\n",
    "def multiply(n):\n",
    "    return lambda x: x*n\n",
    "triple=multiply(3)\n",
    "print(triple(3))\n",
    "print(triple(10))\n",
    "double=multiply(2)\n",
    "print(double(7))"
   ]
  },
  {
   "cell_type": "markdown",
   "metadata": {},
   "source": [
    "### Python3 built-in functions\n",
    "len(), print(), max(), min(), type() etc. are all built-in functions defined in python3. A complete list of python3 built-in function can be found here: https://docs.python.org/3/library/functions.html"
   ]
  },
  {
   "cell_type": "code",
   "execution_count": null,
   "metadata": {},
   "outputs": [],
   "source": []
  }
 ],
 "metadata": {
  "kernelspec": {
   "display_name": "Python 3",
   "language": "python",
   "name": "python3"
  },
  "language_info": {
   "codemirror_mode": {
    "name": "ipython",
    "version": 3
   },
   "file_extension": ".py",
   "mimetype": "text/x-python",
   "name": "python",
   "nbconvert_exporter": "python",
   "pygments_lexer": "ipython3",
   "version": "3.6.5"
  }
 },
 "nbformat": 4,
 "nbformat_minor": 2
}
