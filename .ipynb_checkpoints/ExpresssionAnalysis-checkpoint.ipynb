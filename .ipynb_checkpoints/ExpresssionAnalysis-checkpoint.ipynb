{
 "cells": [
  {
   "cell_type": "markdown",
   "metadata": {},
   "source": [
    "# Data\n",
    "The file *human_small5.csv* contains expression levels of 100 human transcripts over 100 RNA sequencing runs. The file format is as follows:\n",
    "\n",
    "* Each row corresponds to a transcript\n",
    "* The first 15 columns are transcript description columns\n",
    "* The rest 100 columns corresponds to each RNA sequencing run\n",
    "\n",
    "Note: this is a very small subset of the original dataset. The original dataset's dimensions are 1888,228x8619\n",
    "\n",
    "First step is to read the data into a dataframe with pandas."
   ]
  },
  {
   "cell_type": "code",
   "execution_count": 2,
   "metadata": {},
   "outputs": [
    {
     "name": "stdout",
     "output_type": "stream",
     "text": [
      "(100, 115)\n",
      "     Transcript id   Source   Gene stable ID Transcript stable ID  \\\n",
      "0  ENST00000482857  ENSEMBL  ENSG00000152689      ENST00000482857   \n",
      "1  ENST00000482858  ENSEMBL  ENSG00000100033      ENST00000482858   \n",
      "2  ENST00000482859  ENSEMBL  ENSG00000241741      ENST00000482859   \n",
      "3  ENST00000482860  ENSEMBL  ENSG00000146963      ENST00000482860   \n",
      "4  ENST00000482861  ENSEMBL  ENSG00000144290      ENST00000482861   \n",
      "\n",
      "                                    Gene description  \\\n",
      "0  RAS guanyl releasing protein 3 [Source:HGNC Sy...   \n",
      "1  proline dehydrogenase 1 [Source:HGNC Symbol;Ac...   \n",
      "2  ribosomal protein L7a pseudogene 30 [Source:HG...   \n",
      "3  LUC7 like 2; pre-mRNA splicing factor [Source:...   \n",
      "4  solute carrier family 4 member 10 [Source:HGNC...   \n",
      "\n",
      "   Transcript length (including UTRs and CDS) Gene name Transcript name  \\\n",
      "0                                         688   RASGRP3     RASGRP3-214   \n",
      "1                                        4676     PRODH       PRODH-211   \n",
      "2                                         796  RPL7AP30    RPL7AP30-201   \n",
      "3                                        2599    LUC7L2      LUC7L2-206   \n",
      "4                                         583   SLC4A10     SLC4A10-209   \n",
      "\n",
      "   Gene % GC content             Gene type     ...     SRR3090408 SRR3090459  \\\n",
      "0              40.76        protein_coding     ...            0.0   0.000000   \n",
      "1              58.95        protein_coding     ...            0.0   0.000000   \n",
      "2              53.27  processed_pseudogene     ...            0.0   0.000000   \n",
      "3              40.36        protein_coding     ...            0.0   4.339212   \n",
      "4              35.91        protein_coding     ...            0.0   0.000000   \n",
      "\n",
      "  SRR2133252  SRR645769 SRR4052856  SRR3593307  SRR4051015  SRR2735903  \\\n",
      "0   0.000000        0.0        0.0    0.000000    0.000000         0.0   \n",
      "1   0.000000        0.0        0.0    0.000000    0.000000         0.0   \n",
      "2   0.000000        0.0        0.0    0.000000    1.083538         0.0   \n",
      "3  10.369752        0.0        0.0   14.810282    0.000000         0.0   \n",
      "4   0.000000        0.0        0.0    0.000000    0.000000         0.0   \n",
      "\n",
      "   SRR2964052  SRR1056401  \n",
      "0           0    2.684870  \n",
      "1           0    0.000000  \n",
      "2           0    0.763615  \n",
      "3           0   45.058796  \n",
      "4           0    0.000000  \n",
      "\n",
      "[5 rows x 115 columns]\n"
     ]
    }
   ],
   "source": [
    "# Import the `pandas` library as `pd`\n",
    "import pandas as pd\n",
    "\n",
    "#read data file\n",
    "df = pd.read_csv(\"data/human_small5.csv\")\n",
    "\n",
    "#see df dimentions\n",
    "print(df.shape)\n",
    "\n",
    "#print first 5 rows\n",
    "print(df.head(5))"
   ]
  },
  {
   "cell_type": "markdown",
   "metadata": {},
   "source": [
    "## Arrange data\n",
    "Our data has has columns of type *object* and *float*. "
   ]
  },
  {
   "cell_type": "markdown",
   "metadata": {},
   "source": [
    "## Clean data\n",
    "Remove any transcripts (rows) where expression level is zero for all the runs."
   ]
  },
  {
   "cell_type": "code",
   "execution_count": null,
   "metadata": {},
   "outputs": [],
   "source": []
  }
 ],
 "metadata": {
  "kernelspec": {
   "display_name": "Python 3",
   "language": "python",
   "name": "python3"
  },
  "language_info": {
   "codemirror_mode": {
    "name": "ipython",
    "version": 3
   },
   "file_extension": ".py",
   "mimetype": "text/x-python",
   "name": "python",
   "nbconvert_exporter": "python",
   "pygments_lexer": "ipython3",
   "version": "3.6.5"
  }
 },
 "nbformat": 4,
 "nbformat_minor": 2
}
