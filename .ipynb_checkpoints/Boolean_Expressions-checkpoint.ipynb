{
 "cells": [
  {
   "cell_type": "markdown",
   "metadata": {},
   "source": [
    "# Boolean expressions\n",
    "Boolean expressions a.k.a logical expressions are expressions which evaluate to either *True* or *False*. In python 3, *True* and *False* are keywords. Any variable in python can be mapped to a *True* or *False* value using the constructor function *bool*. *bool* takes any python value and return corresponding *True* or *False* value. 0, empty collections, *None* and *False* have *False* values. Most other values are *True*."
   ]
  },
  {
   "cell_type": "code",
   "execution_count": 4,
   "metadata": {},
   "outputs": [
    {
     "name": "stdout",
     "output_type": "stream",
     "text": [
      "True\n",
      "False\n",
      "True\n",
      "False\n",
      "False\n",
      "True\n",
      "False\n"
     ]
    }
   ],
   "source": [
    "print(bool(True))\n",
    "print(bool(False))\n",
    "print(bool(1))\n",
    "print(bool(0))\n",
    "print(bool([]))\n",
    "print(bool([False]))\n",
    "print(bool({}))"
   ]
  },
  {
   "attachments": {},
   "cell_type": "markdown",
   "metadata": {},
   "source": [
    "# Comparison  and logical operators\n",
    "\n",
    "The comparision operators in python are used to compare values of two objects and return *True* or *False*. The comparision result depends on the type of the object. There are a number of comparision operators in python.\n",
    "\n",
    "\n"
   ]
  },
  {
   "cell_type": "code",
   "execution_count": null,
   "metadata": {},
   "outputs": [],
   "source": []
  }
 ],
 "metadata": {
  "kernelspec": {
   "display_name": "Python 3",
   "language": "python",
   "name": "python3"
  },
  "language_info": {
   "codemirror_mode": {
    "name": "ipython",
    "version": 3
   },
   "file_extension": ".py",
   "mimetype": "text/x-python",
   "name": "python",
   "nbconvert_exporter": "python",
   "pygments_lexer": "ipython3",
   "version": "3.6.5"
  }
 },
 "nbformat": 4,
 "nbformat_minor": 2
}
