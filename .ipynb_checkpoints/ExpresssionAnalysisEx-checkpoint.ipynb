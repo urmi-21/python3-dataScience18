{
 "cells": [
  {
   "cell_type": "markdown",
   "metadata": {},
   "source": [
    "# Data\n",
    "The file *human_small5.csv* contains expression levels of 100 human transcripts over 100 RNA sequencing runs. The expression levels were co-normalized for all the runs and transcripts together. The file format is as follows:\n",
    "\n",
    "* Each row corresponds to a transcript\n",
    "* The first 15 columns are transcript description columns\n",
    "* The rest 100 columns corresponds to each RNA sequencing run\n",
    "\n",
    "Note: this is a very small subset of the original dataset. The original dataset's dimensions are 1,888,228x8,619\n",
    "\n",
    "First step is to read the data into a dataframe with pandas."
   ]
  },
  {
   "cell_type": "code",
   "execution_count": 1,
   "metadata": {},
   "outputs": [],
   "source": [
    "# Import the `pandas` library as `pd`\n",
    "import pandas as pd\n",
    "#read data file\n",
    "\n",
    "#see df dimentions\n",
    "\n",
    "#print first 5 rows\n"
   ]
  },
  {
   "cell_type": "markdown",
   "metadata": {},
   "source": [
    "## Column names\n",
    "Our data has has columns of type *object* and *float*. The first 15 columns are only description columns and rest are the data columns. Save these columns into two different lists so that its easier to access only data columns to perform mathematical operations."
   ]
  },
  {
   "cell_type": "code",
   "execution_count": null,
   "metadata": {},
   "outputs": [],
   "source": []
  },
  {
   "cell_type": "markdown",
   "metadata": {},
   "source": [
    "## Clean data\n",
    "Remove any transcripts (rows) where mean expression level is less than 0.05 for all the runs. Display the info data of the transcripts removed."
   ]
  },
  {
   "cell_type": "code",
   "execution_count": null,
   "metadata": {},
   "outputs": [],
   "source": []
  },
  {
   "cell_type": "markdown",
   "metadata": {},
   "source": [
    "Remove any data columns (columns) where expression for all transcripts is 0. Display the columns removed (if any)."
   ]
  },
  {
   "cell_type": "code",
   "execution_count": null,
   "metadata": {},
   "outputs": [],
   "source": []
  },
  {
   "cell_type": "markdown",
   "metadata": {},
   "source": [
    "## Identify co-expressed genes\n",
    "We have removed the transcripts and RNA-seq runs with no expression values from our dataset. We would like to find more about the expression patterns of these transcripts. An interesting thing to see is the co-expressed transcripts i.e. transcripts which have very similar expression patterns across the given RNA-seq runs. To do this we first compute the correlation matrix for all the transcripts."
   ]
  },
  {
   "cell_type": "code",
   "execution_count": null,
   "metadata": {},
   "outputs": [],
   "source": []
  },
  {
   "cell_type": "markdown",
   "metadata": {},
   "source": [
    "From the correlation matrix identify transcript pairs with highest positive correlations."
   ]
  },
  {
   "cell_type": "code",
   "execution_count": null,
   "metadata": {},
   "outputs": [],
   "source": []
  },
  {
   "cell_type": "markdown",
   "metadata": {},
   "source": [
    "## Find mean and median expression levels for each transcript"
   ]
  },
  {
   "cell_type": "code",
   "execution_count": null,
   "metadata": {},
   "outputs": [],
   "source": []
  },
  {
   "cell_type": "markdown",
   "metadata": {},
   "source": [
    "## Apply log transformation to data"
   ]
  },
  {
   "cell_type": "code",
   "execution_count": null,
   "metadata": {},
   "outputs": [],
   "source": []
  }
 ],
 "metadata": {
  "kernelspec": {
   "display_name": "Python 3",
   "language": "python",
   "name": "python3"
  },
  "language_info": {
   "codemirror_mode": {
    "name": "ipython",
    "version": 3
   },
   "file_extension": ".py",
   "mimetype": "text/x-python",
   "name": "python",
   "nbconvert_exporter": "python",
   "pygments_lexer": "ipython3",
   "version": "3.6.5"
  }
 },
 "nbformat": 4,
 "nbformat_minor": 2
}
