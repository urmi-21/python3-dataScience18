{
 "cells": [
  {
   "cell_type": "markdown",
   "metadata": {},
   "source": [
    "# Pandas\n",
    "\"*pandas* is an open source, BSD-licensed library providing high-performance, easy-to-use data structures and data analysis tools for the Python programming language.\" - **https://pandas.pydata.org/**\n",
    "\n",
    "*pandas* provide a number of useful functions for importing and analyzing data. It provides flexible data structures and operations to easily manipulate the data. *pandas* require *NumPy*.\n",
    "\n",
    "This tutorial demonstrates use pandas to create and manipulate data structures and reading data from csv or txt files.\n",
    "\n",
    "To use *pandas* we must first load it into our workspace using the following statement\n",
    "```\n",
    "import pandas as pd\n",
    "```"
   ]
  },
  {
   "cell_type": "code",
   "execution_count": 2,
   "metadata": {},
   "outputs": [
    {
     "data": {
      "text/plain": [
       "'0.23.0'"
      ]
     },
     "execution_count": 2,
     "metadata": {},
     "output_type": "execute_result"
    }
   ],
   "source": [
    "# Import the `pandas` library as `pd`\n",
    "import pandas as pd\n",
    "#print version of pandas\n",
    "pd.__version__\n"
   ]
  },
  {
   "cell_type": "markdown",
   "metadata": {},
   "source": [
    "## Series\n",
    "A *series* is a data structure which can hold a number of objects. It's like a one dimentional array."
   ]
  },
  {
   "cell_type": "code",
   "execution_count": 5,
   "metadata": {},
   "outputs": [
    {
     "name": "stdout",
     "output_type": "stream",
     "text": [
      "0    1\n",
      "1    2\n",
      "2    3\n",
      "dtype: int64\n",
      "0    a\n",
      "1    b\n",
      "2    c\n",
      "dtype: object\n",
      "0     a\n",
      "1     b\n",
      "2     c\n",
      "3    22\n",
      "dtype: object\n",
      "b\n",
      "44.0\n",
      "RangeIndex(start=0, stop=4, step=1)\n",
      "['a' 'b' 'c' 22.0]\n",
      "a    2\n",
      "b    1\n",
      "c    3\n",
      "dtype: int64\n",
      "2\n",
      "3\n",
      "Index(['a', 'b', 'c'], dtype='object')\n",
      "[2 1 3]\n",
      "NSX        22\n",
      "R8         22\n",
      "chiron     14\n",
      "488 GTB    22\n",
      "dtype: int64\n"
     ]
    }
   ],
   "source": [
    "#create series with pandas\n",
    "ser1 = pd.Series([1, 2, 3])\n",
    "print(ser1)\n",
    "serA = pd.Series(['a', 'b', 'c'])\n",
    "print(serA)\n",
    "\n",
    "ser1A = pd.Series(['a', 'b', 'c',22.0])\n",
    "print(ser1A)\n",
    "print(ser1A[1])\n",
    "print(ser1A[3]*2)\n",
    "\n",
    "print(ser1A.index)\n",
    "print(ser1A.values)\n",
    "\n",
    "#series from dict\n",
    "dict1 = {'a' : 2, 'b' : 1, 'c' : 3}\n",
    "serD=pd.Series(dict1)\n",
    "print(serD)\n",
    "print(serD[0])\n",
    "print(serD['c'])\n",
    "\n",
    "print(serD.index)\n",
    "print(serD.values)\n",
    "\n",
    "#define your own index\n",
    "cars = ['NSX', 'R8', 'chiron', '488 GTB']\n",
    "mpg = [22, 22, 14, 22]\n",
    "serCars = pd.Series(mpg, index=cars)\n",
    "print(serCars)"
   ]
  },
  {
   "cell_type": "code",
   "execution_count": null,
   "metadata": {},
   "outputs": [],
   "source": []
  }
 ],
 "metadata": {
  "kernelspec": {
   "display_name": "Python 3",
   "language": "python",
   "name": "python3"
  },
  "language_info": {
   "codemirror_mode": {
    "name": "ipython",
    "version": 3
   },
   "file_extension": ".py",
   "mimetype": "text/x-python",
   "name": "python",
   "nbconvert_exporter": "python",
   "pygments_lexer": "ipython3",
   "version": "3.6.5"
  }
 },
 "nbformat": 4,
 "nbformat_minor": 2
}
