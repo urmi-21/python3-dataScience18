{
 "cells": [
  {
   "cell_type": "markdown",
   "metadata": {},
   "source": [
    "# Pandas\n",
    "\"*pandas* is an open source, BSD-licensed library providing high-performance, easy-to-use data structures and data analysis tools for the Python programming language.\" - **https://pandas.pydata.org/**\n",
    "\n",
    "*pandas* provide a number of useful functions for importing and analyzing data. It provides flexible data structures and operations to easily manipulate the data. *pandas* require *NumPy*.\n",
    "\n",
    "This tutorial demonstrates use pandas to create and manipulate data structures and reading data from csv or txt files.\n",
    "\n",
    "To use *pandas* we must first load it into our workspace using the following statement\n",
    "```\n",
    "import pandas as pd\n",
    "```"
   ]
  },
  {
   "cell_type": "code",
   "execution_count": 4,
   "metadata": {},
   "outputs": [
    {
     "data": {
      "text/plain": [
       "'0.23.0'"
      ]
     },
     "execution_count": 4,
     "metadata": {},
     "output_type": "execute_result"
    }
   ],
   "source": [
    "# Import the `pandas` library as `pd`\n",
    "import pandas as pd\n",
    "#print version of pandas\n",
    "pd.__version__\n"
   ]
  },
  {
   "cell_type": "markdown",
   "metadata": {},
   "source": [
    "## Series\n",
    "A *series* is a data structure which can hold a number of objects. It's like a one dimentional array."
   ]
  },
  {
   "cell_type": "code",
   "execution_count": 5,
   "metadata": {},
   "outputs": [
    {
     "name": "stdout",
     "output_type": "stream",
     "text": [
      "0    1\n",
      "1    2\n",
      "2    3\n",
      "dtype: int64\n",
      "0    a\n",
      "1    b\n",
      "2    c\n",
      "dtype: object\n",
      "0     a\n",
      "1     b\n",
      "2     c\n",
      "3    22\n",
      "dtype: object\n",
      "b\n",
      "44.0\n",
      "RangeIndex(start=0, stop=4, step=1)\n",
      "['a' 'b' 'c' 22.0]\n",
      "a    2\n",
      "b    1\n",
      "c    3\n",
      "dtype: int64\n",
      "2\n",
      "3\n",
      "Index(['a', 'b', 'c'], dtype='object')\n",
      "[2 1 3]\n",
      "NSX        22\n",
      "R8         22\n",
      "chiron     14\n",
      "488 GTB    22\n",
      "dtype: int64\n",
      "NSX       22\n",
      "chiron    14\n",
      "dtype: int64\n"
     ]
    }
   ],
   "source": [
    "#create series with pandas\n",
    "ser1 = pd.Series([1, 2, 3])\n",
    "print(ser1)\n",
    "serA = pd.Series(['a', 'b', 'c'])\n",
    "print(serA)\n",
    "\n",
    "ser1A = pd.Series(['a', 'b', 'c',22.0])\n",
    "print(ser1A)\n",
    "print(ser1A[1])\n",
    "print(ser1A[3]*2)\n",
    "\n",
    "print(ser1A.index)\n",
    "print(ser1A.values)\n",
    "\n",
    "#series from dict\n",
    "dict1 = {'a' : 2, 'b' : 1, 'c' : 3}\n",
    "serD=pd.Series(dict1)\n",
    "print(serD)\n",
    "print(serD[0])\n",
    "print(serD['c'])\n",
    "\n",
    "print(serD.index)\n",
    "print(serD.values)\n",
    "\n",
    "#define your own index\n",
    "cars = ['NSX', 'R8', 'chiron', '488 GTB']\n",
    "mpg = [22, 22, 14, 22]\n",
    "serCars = pd.Series(mpg, index=cars)\n",
    "print(serCars)\n",
    "print(serCars[['NSX','chiron']])"
   ]
  },
  {
   "cell_type": "markdown",
   "metadata": {},
   "source": [
    "## Dataframe\n",
    "A *dataframe* can hold tabular data with rows and columns. It is logically same as an excel sheet. Each column in a data frame is a series."
   ]
  },
  {
   "cell_type": "code",
   "execution_count": 6,
   "metadata": {},
   "outputs": [
    {
     "name": "stdout",
     "output_type": "stream",
     "text": [
      "   Col1  Col2\n",
      "1   1.0   NaN\n",
      "a   NaN   2.0\n",
      "b   2.0   9.0\n",
      "c   3.0   4.0\n",
      "     0   1\n",
      "0    a   a\n",
      "1    b   b\n",
      "2    c   c\n",
      "3  NaN  22\n",
      "    0           1\n",
      "0  AZ     Arizona\n",
      "1  CA  California\n",
      "2  IA        Iowa\n",
      "3  KS      Kansas\n",
      "4  NY    New York\n",
      "After changing col names\n",
      "  Abb        Name\n",
      "0  AZ     Arizona\n",
      "1  CA  California\n",
      "2  IA        Iowa\n",
      "3  KS      Kansas\n",
      "4  NY    New York\n",
      "(5, 2)\n"
     ]
    }
   ],
   "source": [
    "#data frame from dict example\n",
    "d = {'Col1' : pd. Series ([1. , 2., 3.] ,index =[ '1', 'b', 'c']) , 'Col2' : pd. Series ([2. , 9., 4.] ,index =[ 'a', 'b', 'c'])}\n",
    "df1 = pd. DataFrame (d)\n",
    "print(df1)\n",
    "\n",
    "#data frame from series\n",
    "df2=pd.concat([serA,ser1A], axis=1)\n",
    "print(df2)\n",
    "\n",
    "#using lists\n",
    "states=['AZ','CA','IA','KS','NY']\n",
    "statesFull=['Arizona','California','Iowa','Kansas','New York']\n",
    "dfStates=pd. DataFrame(list(zip(states,statesFull)))\n",
    "print(dfStates)\n",
    "#change column names\n",
    "print(\"After changing col names\")\n",
    "dfStates.columns = ['Abb', 'Name']\n",
    "print(dfStates)\n",
    "#see dimentions\n",
    "print(dfStates.shape)\n",
    "\n"
   ]
  },
  {
   "cell_type": "markdown",
   "metadata": {},
   "source": [
    "## Dataframe indexing\n",
    "With pandas dataframes, **[]** operator selects columns by name. The method *iloc* is used to select rows by the integer index."
   ]
  },
  {
   "cell_type": "code",
   "execution_count": 45,
   "metadata": {},
   "outputs": [
    {
     "name": "stdout",
     "output_type": "stream",
     "text": [
      "Index(['Abb', 'Name'], dtype='object')\n",
      "0       Arizona\n",
      "1    California\n",
      "2          Iowa\n",
      "3        Kansas\n",
      "4      New York\n",
      "Name: Name, dtype: object\n",
      "0    AZ\n",
      "1    CA\n",
      "2    IA\n",
      "3    KS\n",
      "4    NY\n",
      "Name: Abb, dtype: object\n",
      "  Abb        Name\n",
      "0  AZ     Arizona\n",
      "1  CA  California\n",
      "2  IA        Iowa\n",
      "  Abb      Name\n",
      "2  IA      Iowa\n",
      "3  KS    Kansas\n",
      "4  NY  New York\n",
      "  Abb        Name\n",
      "1  CA  California\n",
      "  Abb        Name\n",
      "1  CA  California\n"
     ]
    }
   ],
   "source": [
    "#see column names\n",
    "print(dfStates.columns)\n",
    "\n",
    "# select Name column\n",
    "print(dfStates['Name'])\n",
    "\n",
    "#select 1st column\n",
    "print(dfStates[dfStates.columns[0]])\n",
    "\n",
    "#print first n rows\n",
    "n=3\n",
    "print(dfStates.head(n))\n",
    "#print last n rows\n",
    "print(dfStates.tail(n))\n",
    "\n",
    "#print 2nd row\n",
    "print(dfStates.iloc[[1]])\n",
    "#or use splice operator\n",
    "print(dfStates[1:2])\n",
    "    "
   ]
  },
  {
   "cell_type": "markdown",
   "metadata": {},
   "source": [
    "## Import data\n",
    "Import .csv data from storage into python workspace using pandas. Then we use pandas functions and tools to explore the dataset."
   ]
  },
  {
   "cell_type": "code",
   "execution_count": 46,
   "metadata": {},
   "outputs": [
    {
     "name": "stdout",
     "output_type": "stream",
     "text": [
      "(150, 5)\n",
      "sepallength    float64\n",
      "sepalwidth     float64\n",
      "petallength    float64\n",
      "petalwidth     float64\n",
      "class           object\n",
      "dtype: object\n",
      "   sepallength  sepalwidth  petallength  petalwidth        class\n",
      "0          5.1         3.5          1.4         0.2  Iris-setosa\n",
      "1          4.9         3.0          1.4         0.2  Iris-setosa\n",
      "2          4.7         3.2          1.3         0.2  Iris-setosa\n",
      "3          4.6         3.1          1.5         0.2  Iris-setosa\n",
      "4          5.0         3.6          1.4         0.2  Iris-setosa\n"
     ]
    }
   ],
   "source": [
    "df = pd.read_csv(\"data/iris.data.csv\")\n",
    "#df=pd.read_csv(\"https://raw.githubusercontent.com/urmi-21/python3-dataScience18/master/data/iris.data.csv\")\n",
    "#see df dimentions\n",
    "print(df.shape)\n",
    "#see datatypes\n",
    "print(df.dtypes)\n",
    "#print first 5 rows\n",
    "print(df.head(5))\n",
    "\n",
    "\n",
    "\n"
   ]
  },
  {
   "cell_type": "markdown",
   "metadata": {},
   "source": [
    "Find summary statistics of the data"
   ]
  },
  {
   "cell_type": "code",
   "execution_count": 8,
   "metadata": {},
   "outputs": [
    {
     "name": "stdout",
     "output_type": "stream",
     "text": [
      "Data summary\n",
      "       sepallength  sepalwidth  petallength  petalwidth\n",
      "count   150.000000  150.000000   150.000000  150.000000\n",
      "mean      5.843333    3.054000     3.758667    1.198667\n",
      "std       0.828066    0.433594     1.764420    0.763161\n",
      "min       4.300000    2.000000     1.000000    0.100000\n",
      "25%       5.100000    2.800000     1.600000    0.300000\n",
      "50%       5.800000    3.000000     4.350000    1.300000\n",
      "75%       6.400000    3.300000     5.100000    1.800000\n",
      "max       7.900000    4.400000     6.900000    2.500000\n",
      "mean fisrt col 5.843333333333335\n",
      "mean fisrt col 5.843333333333335\n",
      "mean of sepallength by class: class\n",
      "Iris-setosa        5.006\n",
      "Iris-versicolor    5.936\n",
      "Iris-virginica     6.588\n",
      "Name: sepallength, dtype: float64\n",
      "means by class                 sepallength  sepalwidth  petallength  petalwidth\n",
      "class                                                            \n",
      "Iris-setosa            5.006       3.418        1.464       0.244\n",
      "Iris-versicolor        5.936       2.770        4.260       1.326\n",
      "Iris-virginica         6.588       2.974        5.552       2.026\n"
     ]
    }
   ],
   "source": [
    "#get data summary\n",
    "print(\"Data summary\")\n",
    "print (df.describe())\n",
    "\n",
    "#print unique class values\n",
    "df['class'].unique()\n",
    "\n",
    "#get mean sepallength\n",
    "print(\"mean fisrt col \"+str(df['sepallength'].mean()))\n",
    "#refers to first column\n",
    "print(\"mean fisrt col \"+str(df[df.columns[0]].mean()))\n",
    "#find mean of sepallength by class\n",
    "print(\"mean of sepallength by class: \"+str(df.groupby('class')['sepallength'].mean()))\n",
    "#find mean for each class\n",
    "print(\"means by class\"+str(df.groupby('class').mean()))\n",
    "\n",
    "\n"
   ]
  },
  {
   "cell_type": "markdown",
   "metadata": {},
   "source": [
    "Manipulate data using *apply*, *applymap* and *map* functions.\n",
    "\n",
    "1. *apply* method is used for applying a function on 1D arrays to each column or row.\n",
    "2. *applymap* method is used for applying element-wise operations on dataframes.\n",
    "3. *map* map method for applying an element-wise functions on series."
   ]
  },
  {
   "cell_type": "code",
   "execution_count": 54,
   "metadata": {},
   "outputs": [
    {
     "name": "stdout",
     "output_type": "stream",
     "text": [
      "sepallength    3.6\n",
      "sepalwidth     2.4\n",
      "petallength    5.9\n",
      "petalwidth     2.4\n",
      "dtype: float64\n",
      "0      4.9\n",
      "1      4.7\n",
      "2      4.5\n",
      "3      4.4\n",
      "4      4.8\n",
      "5      5.0\n",
      "6      4.3\n",
      "7      4.8\n",
      "8      4.2\n",
      "9      4.8\n",
      "10     5.2\n",
      "11     4.6\n",
      "12     4.7\n",
      "13     4.2\n",
      "14     5.6\n",
      "15     5.3\n",
      "16     5.0\n",
      "17     4.8\n",
      "18     5.4\n",
      "19     4.8\n",
      "20     5.2\n",
      "21     4.7\n",
      "22     4.4\n",
      "23     4.6\n",
      "24     4.6\n",
      "25     4.8\n",
      "26     4.6\n",
      "27     5.0\n",
      "28     5.0\n",
      "29     4.5\n",
      "      ... \n",
      "120    4.6\n",
      "121    3.6\n",
      "122    5.7\n",
      "123    4.5\n",
      "124    4.6\n",
      "125    5.4\n",
      "126    4.4\n",
      "127    4.3\n",
      "128    4.3\n",
      "129    5.6\n",
      "130    5.5\n",
      "131    5.9\n",
      "132    4.2\n",
      "133    4.8\n",
      "134    4.7\n",
      "135    5.4\n",
      "136    3.9\n",
      "137    4.6\n",
      "138    4.2\n",
      "139    4.8\n",
      "140    4.3\n",
      "141    4.6\n",
      "142    3.9\n",
      "143    4.5\n",
      "144    4.2\n",
      "145    4.4\n",
      "146    4.4\n",
      "147    4.5\n",
      "148    3.9\n",
      "149    4.1\n",
      "Length: 150, dtype: float64\n",
      "   sepallength  sepalwidth  petallength  petalwidth        class  \\\n",
      "0          5.1         3.5          1.4         0.2  Iris-setosa   \n",
      "1          4.9         3.0          1.4         0.2  Iris-setosa   \n",
      "2          4.7         3.2          1.3         0.2  Iris-setosa   \n",
      "3          4.6         3.1          1.5         0.2  Iris-setosa   \n",
      "4          5.0         3.6          1.4         0.2  Iris-setosa   \n",
      "\n",
      "   logsepallength  logpetallength  \n",
      "0        1.629241        0.336472  \n",
      "1        1.589235        0.336472  \n",
      "2        1.547563        0.262364  \n",
      "3        1.526056        0.405465  \n",
      "4        1.609438        0.336472  \n",
      "   sepallength  sepalwidth  petallength  petalwidth        class\n",
      "0     1.629241    1.252763     0.336472   -1.609438  Iris-setosa\n",
      "1     1.589235    1.098612     0.336472   -1.609438  Iris-setosa\n",
      "2     1.547563    1.163151     0.262364   -1.609438  Iris-setosa\n",
      "3     1.526056    1.131402     0.405465   -1.609438  Iris-setosa\n",
      "4     1.609438    1.280934     0.336472   -1.609438  Iris-setosa\n"
     ]
    },
    {
     "data": {
      "text/plain": [
       "0    1.276417\n",
       "1    1.260649\n",
       "2    1.244011\n",
       "Name: logsepallength, dtype: float64"
      ]
     },
     "execution_count": 54,
     "metadata": {},
     "output_type": "execute_result"
    }
   ],
   "source": [
    "#apply function\n",
    "import math\n",
    "def logX(x):\n",
    "    return math.log(x)\n",
    "#create a new column, logsepallength which is log of sepallength column\n",
    "df['logsepallength'] = df['sepallength'].apply(logX)\n",
    "#create a new column, logpetallength which is log of petallength column using lambda function\n",
    "df['logpetallength'] = df['petallength'].apply(lambda x: math.log(x))\n",
    "print(df[df.columns[:-3]].apply(lambda x: x.max() - x.min()))\n",
    "print(df[df.columns[:-3]].apply(lambda x: x.max() - x.min(), axis=1))\n",
    "print(df.head(5))\n",
    "#log whole dataset and save as adfLog\n",
    "df2=df.drop('class', axis=1).apply(lambda x: x+10 )\n",
    "df2['class']=df['class']\n",
    "dfLog=df.drop('logsepallength', axis=1).drop('logpetallength', axis=1).drop('class', axis=1).applymap(lambda x: math.log(x))\n",
    "#copyback class columns which was dropped before\n",
    "dfLog['class']=df['class']\n",
    "print(dfLog.head(5))\n",
    "\n",
    "#example of map to sqrt sepallength\n",
    "df['logsepallength'].map(lambda x: math.sqrt(x)).head(3)\n"
   ]
  },
  {
   "cell_type": "markdown",
   "metadata": {},
   "source": [
    "#### Find the correlations between the columns."
   ]
  },
  {
   "cell_type": "code",
   "execution_count": 69,
   "metadata": {},
   "outputs": [
    {
     "name": "stdout",
     "output_type": "stream",
     "text": [
      "             sepallength  sepalwidth  petallength  petalwidth\n",
      "sepallength     1.000000   -0.103746     0.841301    0.799921\n",
      "sepalwidth     -0.103746    1.000000    -0.465218   -0.434430\n",
      "petallength     0.841301   -0.465218     1.000000    0.962736\n",
      "petalwidth      0.799921   -0.434430     0.962736    1.000000\n"
     ]
    },
    {
     "data": {
      "text/plain": [
       "sepallength    1.000000\n",
       "petallength    0.841301\n",
       "petalwidth     0.799921\n",
       "sepalwidth    -0.103746\n",
       "Name: sepallength, dtype: float64"
      ]
     },
     "execution_count": 69,
     "metadata": {},
     "output_type": "execute_result"
    }
   ],
   "source": [
    "corrMat=dfLog[dfLog.columns[:-1]].corr()\n",
    "print(corrMat)\n",
    "\n",
    "#find highest and lowest corr values \n",
    "corrMat['sepallength'].sort_values(ascending=False)"
   ]
  },
  {
   "cell_type": "markdown",
   "metadata": {},
   "source": [
    "#### Group data by class using *groupby*\n",
    "Can use *groupby* to split dataframe by columns or rows. General syntax is\n",
    "\n",
    "```\n",
    "df.groupby('colname')\n",
    "df.groupby(['colname1','colname2'])\n",
    "df.groupby(key,axis=1)\n",
    "```"
   ]
  },
  {
   "cell_type": "code",
   "execution_count": 85,
   "metadata": {},
   "outputs": [
    {
     "name": "stdout",
     "output_type": "stream",
     "text": [
      "<pandas.core.groupby.groupby.DataFrameGroupBy object at 0x000001F23DC4DB38>\n",
      "{'Iris-setosa': Int64Index([ 0,  1,  2,  3,  4,  5,  6,  7,  8,  9, 10, 11, 12, 13, 14, 15, 16,\n",
      "            17, 18, 19, 20, 21, 22, 23, 24, 25, 26, 27, 28, 29, 30, 31, 32, 33,\n",
      "            34, 35, 36, 37, 38, 39, 40, 41, 42, 43, 44, 45, 46, 47, 48, 49],\n",
      "           dtype='int64'), 'Iris-versicolor': Int64Index([50, 51, 52, 53, 54, 55, 56, 57, 58, 59, 60, 61, 62, 63, 64, 65, 66,\n",
      "            67, 68, 69, 70, 71, 72, 73, 74, 75, 76, 77, 78, 79, 80, 81, 82, 83,\n",
      "            84, 85, 86, 87, 88, 89, 90, 91, 92, 93, 94, 95, 96, 97, 98, 99],\n",
      "           dtype='int64'), 'Iris-virginica': Int64Index([100, 101, 102, 103, 104, 105, 106, 107, 108, 109, 110, 111, 112,\n",
      "            113, 114, 115, 116, 117, 118, 119, 120, 121, 122, 123, 124, 125,\n",
      "            126, 127, 128, 129, 130, 131, 132, 133, 134, 135, 136, 137, 138,\n",
      "            139, 140, 141, 142, 143, 144, 145, 146, 147, 148, 149],\n",
      "           dtype='int64')}\n",
      "Group names: dict_keys(['Iris-setosa', 'Iris-versicolor', 'Iris-virginica'])\n",
      "    sepallength  sepalwidth  petallength  petalwidth            class\n",
      "50     1.945910    1.163151     1.547563    0.336472  Iris-versicolor\n",
      "51     1.856298    1.163151     1.504077    0.405465  Iris-versicolor\n",
      "52     1.931521    1.131402     1.589235    0.405465  Iris-versicolor\n",
      "53     1.704748    0.832909     1.386294    0.262364  Iris-versicolor\n",
      "54     1.871802    1.029619     1.526056    0.405465  Iris-versicolor\n",
      "55     1.740466    1.029619     1.504077    0.262364  Iris-versicolor\n",
      "56     1.840550    1.193922     1.547563    0.470004  Iris-versicolor\n",
      "57     1.589235    0.875469     1.193922    0.000000  Iris-versicolor\n",
      "58     1.887070    1.064711     1.526056    0.262364  Iris-versicolor\n",
      "59     1.648659    0.993252     1.360977    0.336472  Iris-versicolor\n",
      "60     1.609438    0.693147     1.252763    0.000000  Iris-versicolor\n",
      "61     1.774952    1.098612     1.435085    0.405465  Iris-versicolor\n",
      "62     1.791759    0.788457     1.386294    0.000000  Iris-versicolor\n",
      "63     1.808289    1.064711     1.547563    0.336472  Iris-versicolor\n",
      "64     1.722767    1.064711     1.280934    0.262364  Iris-versicolor\n",
      "65     1.902108    1.131402     1.481605    0.336472  Iris-versicolor\n",
      "66     1.722767    1.098612     1.504077    0.405465  Iris-versicolor\n",
      "67     1.757858    0.993252     1.410987    0.000000  Iris-versicolor\n",
      "68     1.824549    0.788457     1.504077    0.405465  Iris-versicolor\n",
      "69     1.722767    0.916291     1.360977    0.095310  Iris-versicolor\n",
      "70     1.774952    1.163151     1.568616    0.587787  Iris-versicolor\n",
      "71     1.808289    1.029619     1.386294    0.262364  Iris-versicolor\n",
      "72     1.840550    0.916291     1.589235    0.405465  Iris-versicolor\n",
      "73     1.808289    1.029619     1.547563    0.182322  Iris-versicolor\n",
      "74     1.856298    1.064711     1.458615    0.262364  Iris-versicolor\n",
      "75     1.887070    1.098612     1.481605    0.336472  Iris-versicolor\n",
      "76     1.916923    1.029619     1.568616    0.336472  Iris-versicolor\n",
      "77     1.902108    1.098612     1.609438    0.530628  Iris-versicolor\n",
      "78     1.791759    1.064711     1.504077    0.405465  Iris-versicolor\n",
      "79     1.740466    0.955511     1.252763    0.000000  Iris-versicolor\n",
      "80     1.704748    0.875469     1.335001    0.095310  Iris-versicolor\n",
      "81     1.704748    0.875469     1.308333    0.000000  Iris-versicolor\n",
      "82     1.757858    0.993252     1.360977    0.182322  Iris-versicolor\n",
      "83     1.791759    0.993252     1.629241    0.470004  Iris-versicolor\n",
      "84     1.686399    1.098612     1.504077    0.405465  Iris-versicolor\n",
      "85     1.791759    1.223775     1.504077    0.470004  Iris-versicolor\n",
      "86     1.902108    1.131402     1.547563    0.405465  Iris-versicolor\n",
      "87     1.840550    0.832909     1.481605    0.262364  Iris-versicolor\n",
      "88     1.722767    1.098612     1.410987    0.262364  Iris-versicolor\n",
      "89     1.704748    0.916291     1.386294    0.262364  Iris-versicolor\n",
      "90     1.704748    0.955511     1.481605    0.182322  Iris-versicolor\n",
      "91     1.808289    1.098612     1.526056    0.336472  Iris-versicolor\n",
      "92     1.757858    0.955511     1.386294    0.182322  Iris-versicolor\n",
      "93     1.609438    0.832909     1.193922    0.000000  Iris-versicolor\n",
      "94     1.722767    0.993252     1.435085    0.262364  Iris-versicolor\n",
      "95     1.740466    1.098612     1.435085    0.182322  Iris-versicolor\n",
      "96     1.740466    1.064711     1.435085    0.262364  Iris-versicolor\n",
      "97     1.824549    1.064711     1.458615    0.262364  Iris-versicolor\n",
      "98     1.629241    0.916291     1.098612    0.095310  Iris-versicolor\n",
      "99     1.740466    1.029619     1.410987    0.262364  Iris-versicolor\n",
      "Mean values class\n",
      "Iris-setosa        1.608205\n",
      "Iris-versicolor    1.777319\n",
      "Iris-virginica     1.880654\n",
      "Name: sepallength, dtype: float64\n"
     ]
    }
   ],
   "source": [
    "import numpy as np\n",
    "#groupby class\n",
    "grouped=dfLog.groupby('class')\n",
    "print(grouped)\n",
    "#see groups\n",
    "print(grouped.groups)\n",
    "\n",
    "#print group mnames\n",
    "print (\"Group names:\",grouped.groups.keys())\n",
    "\n",
    "#get group by key\n",
    "print (grouped.get_group('Iris-versicolor'))\n",
    "\n"
   ]
  },
  {
   "cell_type": "markdown",
   "metadata": {},
   "source": [
    "#### Aggregated functions\n",
    "Aggregated functions returns an aggregate value for each group. *agg* function is used to aggregating data."
   ]
  },
  {
   "cell_type": "code",
   "execution_count": 90,
   "metadata": {},
   "outputs": [
    {
     "name": "stdout",
     "output_type": "stream",
     "text": [
      "Mean values                  sepallength  sepalwidth  petallength  petalwidth\n",
      "class                                                            \n",
      "Iris-setosa         1.608205    1.222865     0.374139   -1.498512\n",
      "Iris-versicolor     1.777319    1.012282     1.442930    0.270933\n",
      "Iris-virginica      1.880654    1.084180     1.709426    0.696748\n",
      "size  class\n",
      "Iris-setosa        50.0\n",
      "Iris-versicolor    50.0\n",
      "Iris-virginica     50.0\n",
      "Name: sepallength, dtype: float64\n"
     ]
    },
    {
     "data": {
      "text/html": [
       "<div>\n",
       "<style scoped>\n",
       "    .dataframe tbody tr th:only-of-type {\n",
       "        vertical-align: middle;\n",
       "    }\n",
       "\n",
       "    .dataframe tbody tr th {\n",
       "        vertical-align: top;\n",
       "    }\n",
       "\n",
       "    .dataframe thead tr th {\n",
       "        text-align: left;\n",
       "    }\n",
       "\n",
       "    .dataframe thead tr:last-of-type th {\n",
       "        text-align: right;\n",
       "    }\n",
       "</style>\n",
       "<table border=\"1\" class=\"dataframe\">\n",
       "  <thead>\n",
       "    <tr>\n",
       "      <th></th>\n",
       "      <th colspan=\"2\" halign=\"left\">sepallength</th>\n",
       "      <th colspan=\"2\" halign=\"left\">sepalwidth</th>\n",
       "      <th colspan=\"2\" halign=\"left\">petallength</th>\n",
       "      <th colspan=\"2\" halign=\"left\">petalwidth</th>\n",
       "    </tr>\n",
       "    <tr>\n",
       "      <th></th>\n",
       "      <th>min</th>\n",
       "      <th>max</th>\n",
       "      <th>min</th>\n",
       "      <th>max</th>\n",
       "      <th>min</th>\n",
       "      <th>max</th>\n",
       "      <th>min</th>\n",
       "      <th>max</th>\n",
       "    </tr>\n",
       "    <tr>\n",
       "      <th>class</th>\n",
       "      <th></th>\n",
       "      <th></th>\n",
       "      <th></th>\n",
       "      <th></th>\n",
       "      <th></th>\n",
       "      <th></th>\n",
       "      <th></th>\n",
       "      <th></th>\n",
       "    </tr>\n",
       "  </thead>\n",
       "  <tbody>\n",
       "    <tr>\n",
       "      <th>Iris-setosa</th>\n",
       "      <td>1.458615</td>\n",
       "      <td>1.757858</td>\n",
       "      <td>0.832909</td>\n",
       "      <td>1.481605</td>\n",
       "      <td>0.000000</td>\n",
       "      <td>0.641854</td>\n",
       "      <td>-2.302585</td>\n",
       "      <td>-0.510826</td>\n",
       "    </tr>\n",
       "    <tr>\n",
       "      <th>Iris-versicolor</th>\n",
       "      <td>1.589235</td>\n",
       "      <td>1.945910</td>\n",
       "      <td>0.693147</td>\n",
       "      <td>1.223775</td>\n",
       "      <td>1.098612</td>\n",
       "      <td>1.629241</td>\n",
       "      <td>0.000000</td>\n",
       "      <td>0.587787</td>\n",
       "    </tr>\n",
       "    <tr>\n",
       "      <th>Iris-virginica</th>\n",
       "      <td>1.589235</td>\n",
       "      <td>2.066863</td>\n",
       "      <td>0.788457</td>\n",
       "      <td>1.335001</td>\n",
       "      <td>1.504077</td>\n",
       "      <td>1.931521</td>\n",
       "      <td>0.336472</td>\n",
       "      <td>0.916291</td>\n",
       "    </tr>\n",
       "  </tbody>\n",
       "</table>\n",
       "</div>"
      ],
      "text/plain": [
       "                sepallength           sepalwidth           petallength  \\\n",
       "                        min       max        min       max         min   \n",
       "class                                                                    \n",
       "Iris-setosa        1.458615  1.757858   0.832909  1.481605    0.000000   \n",
       "Iris-versicolor    1.589235  1.945910   0.693147  1.223775    1.098612   \n",
       "Iris-virginica     1.589235  2.066863   0.788457  1.335001    1.504077   \n",
       "\n",
       "                          petalwidth            \n",
       "                      max        min       max  \n",
       "class                                           \n",
       "Iris-setosa      0.641854  -2.302585 -0.510826  \n",
       "Iris-versicolor  1.629241   0.000000  0.587787  \n",
       "Iris-virginica   1.931521   0.336472  0.916291  "
      ]
     },
     "execution_count": 90,
     "metadata": {},
     "output_type": "execute_result"
    }
   ],
   "source": [
    "#get mean values \n",
    "print (\"Mean values\",grouped.agg(np.mean))\n",
    "print (\"size \",grouped['sepallength'].agg(np.size))\n",
    "grouped.agg(['min', 'max'])\n"
   ]
  },
  {
   "cell_type": "code",
   "execution_count": null,
   "metadata": {},
   "outputs": [],
   "source": []
  }
 ],
 "metadata": {
  "kernelspec": {
   "display_name": "Python 3",
   "language": "python",
   "name": "python3"
  },
  "language_info": {
   "codemirror_mode": {
    "name": "ipython",
    "version": 3
   },
   "file_extension": ".py",
   "mimetype": "text/x-python",
   "name": "python",
   "nbconvert_exporter": "python",
   "pygments_lexer": "ipython3",
   "version": "3.6.5"
  }
 },
 "nbformat": 4,
 "nbformat_minor": 2
}
