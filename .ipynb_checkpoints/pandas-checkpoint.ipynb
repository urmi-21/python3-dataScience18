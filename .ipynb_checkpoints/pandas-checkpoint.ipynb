{
 "cells": [
  {
   "cell_type": "markdown",
   "metadata": {},
   "source": [
    "# Pandas\n",
    "\"*pandas* is an open source, BSD-licensed library providing high-performance, easy-to-use data structures and data analysis tools for the Python programming language.\" - **https://pandas.pydata.org/**\n",
    "\n",
    "*pandas* provide a number of useful functions for importing and analyzing data. It provides flexible data structures and operations to easily manipulate the data. *pandas* require *NumPy*.\n",
    "\n",
    "This tutorial demonstrates use pandas to create and manipulate data structures and reading data from csv or txt files.\n",
    "\n",
    "To use *pandas* we must first load it into our workspace using the following statement\n",
    "```\n",
    "import pandas as pd\n",
    "```"
   ]
  },
  {
   "cell_type": "code",
   "execution_count": 2,
   "metadata": {},
   "outputs": [
    {
     "data": {
      "text/plain": [
       "'0.23.0'"
      ]
     },
     "execution_count": 2,
     "metadata": {},
     "output_type": "execute_result"
    }
   ],
   "source": [
    "# Import the `pandas` library as `pd`\n",
    "import pandas as pd\n",
    "#print version of pandas\n",
    "pd.__version__\n"
   ]
  },
  {
   "cell_type": "markdown",
   "metadata": {},
   "source": [
    "## Series\n",
    "A *series* is a data structure which can hold a number of objects. It's like a one dimentional array."
   ]
  },
  {
   "cell_type": "code",
   "execution_count": 3,
   "metadata": {},
   "outputs": [
    {
     "name": "stdout",
     "output_type": "stream",
     "text": [
      "0    1\n",
      "1    2\n",
      "2    3\n",
      "dtype: int64\n",
      "0    a\n",
      "1    b\n",
      "2    c\n",
      "dtype: object\n",
      "0     a\n",
      "1     b\n",
      "2     c\n",
      "3    22\n",
      "dtype: object\n",
      "b\n",
      "44.0\n",
      "RangeIndex(start=0, stop=4, step=1)\n",
      "['a' 'b' 'c' 22.0]\n",
      "a    2\n",
      "b    1\n",
      "c    3\n",
      "dtype: int64\n",
      "2\n",
      "3\n",
      "Index(['a', 'b', 'c'], dtype='object')\n",
      "[2 1 3]\n",
      "NSX        22\n",
      "R8         22\n",
      "chiron     14\n",
      "488 GTB    22\n",
      "dtype: int64\n",
      "NSX       22\n",
      "chiron    14\n",
      "dtype: int64\n"
     ]
    }
   ],
   "source": [
    "#create series with pandas\n",
    "ser1 = pd.Series([1, 2, 3])\n",
    "print(ser1)\n",
    "serA = pd.Series(['a', 'b', 'c'])\n",
    "print(serA)\n",
    "\n",
    "ser1A = pd.Series(['a', 'b', 'c',22.0])\n",
    "print(ser1A)\n",
    "print(ser1A[1])\n",
    "print(ser1A[3]*2)\n",
    "\n",
    "print(ser1A.index)\n",
    "print(ser1A.values)\n",
    "\n",
    "#series from dict\n",
    "dict1 = {'a' : 2, 'b' : 1, 'c' : 3}\n",
    "serD=pd.Series(dict1)\n",
    "print(serD)\n",
    "print(serD[0])\n",
    "print(serD['c'])\n",
    "\n",
    "print(serD.index)\n",
    "print(serD.values)\n",
    "\n",
    "#define your own index\n",
    "cars = ['NSX', 'R8', 'chiron', '488 GTB']\n",
    "mpg = [22, 22, 14, 22]\n",
    "serCars = pd.Series(mpg, index=cars)\n",
    "print(serCars)\n",
    "print(serCars[['NSX','chiron']])"
   ]
  },
  {
   "cell_type": "markdown",
   "metadata": {},
   "source": [
    "## Dataframe\n",
    "A *dataframe* can hold tabular data with rows and columns. It is logically same as an excel sheet. Each column in a data frame is a series."
   ]
  },
  {
   "cell_type": "code",
   "execution_count": 4,
   "metadata": {},
   "outputs": [
    {
     "name": "stdout",
     "output_type": "stream",
     "text": [
      "   Col1  Col2\n",
      "1   1.0   NaN\n",
      "a   NaN   2.0\n",
      "b   2.0   9.0\n",
      "c   3.0   4.0\n",
      "     0   1\n",
      "0    a   a\n",
      "1    b   b\n",
      "2    c   c\n",
      "3  NaN  22\n",
      "    0           1\n",
      "0  AZ     Arizona\n",
      "1  CA  California\n",
      "2  IA        Iowa\n",
      "3  KS      Kansas\n",
      "4  NY    New York\n",
      "After changing col names\n",
      "  Abb        Name\n",
      "0  AZ     Arizona\n",
      "1  CA  California\n",
      "2  IA        Iowa\n",
      "3  KS      Kansas\n",
      "4  NY    New York\n",
      "(5, 2)\n"
     ]
    }
   ],
   "source": [
    "#data frame from dict example\n",
    "d = {'Col1' : pd. Series ([1. , 2., 3.] ,index =[ '1', 'b', 'c']) , 'Col2' : pd. Series ([2. , 9., 4.] ,index =[ 'a', 'b', 'c'])}\n",
    "df1 = pd. DataFrame (d)\n",
    "print(df1)\n",
    "\n",
    "#data frame from series\n",
    "df2=pd.concat([serA,ser1A], axis=1)\n",
    "print(df2)\n",
    "\n",
    "#using lists\n",
    "states=['AZ','CA','IA','KS','NY']\n",
    "statesFull=['Arizona','California','Iowa','Kansas','New York']\n",
    "dfStates=pd. DataFrame(list(zip(states,statesFull)))\n",
    "print(dfStates)\n",
    "#change column names\n",
    "print(\"After changing col names\")\n",
    "dfStates.columns = ['Abb', 'Name']\n",
    "print(dfStates)\n",
    "#see dimentions\n",
    "print(dfStates.shape)\n",
    "\n"
   ]
  },
  {
   "cell_type": "markdown",
   "metadata": {},
   "source": [
    "## Import data\n",
    "Import .csv data from storage into python workspace using pandas. Then we use pandas functions and tools to explore the dataset."
   ]
  },
  {
   "cell_type": "code",
   "execution_count": 71,
   "metadata": {},
   "outputs": [
    {
     "name": "stdout",
     "output_type": "stream",
     "text": [
      "(150, 5)\n",
      "sepallength    float64\n",
      "sepalwidth     float64\n",
      "petallength    float64\n",
      "petalwidth     float64\n",
      "class           object\n",
      "dtype: object\n",
      "   sepallength  sepalwidth  petallength  petalwidth        class\n",
      "0          5.1         3.5          1.4         0.2  Iris-setosa\n",
      "1          4.9         3.0          1.4         0.2  Iris-setosa\n",
      "2          4.7         3.2          1.3         0.2  Iris-setosa\n",
      "3          4.6         3.1          1.5         0.2  Iris-setosa\n",
      "4          5.0         3.6          1.4         0.2  Iris-setosa\n",
      "Data summary\n",
      "       sepallength  sepalwidth  petallength  petalwidth\n",
      "count   150.000000  150.000000   150.000000  150.000000\n",
      "mean      5.843333    3.054000     3.758667    1.198667\n",
      "std       0.828066    0.433594     1.764420    0.763161\n",
      "min       4.300000    2.000000     1.000000    0.100000\n",
      "25%       5.100000    2.800000     1.600000    0.300000\n",
      "50%       5.800000    3.000000     4.350000    1.300000\n",
      "75%       6.400000    3.300000     5.100000    1.800000\n",
      "max       7.900000    4.400000     6.900000    2.500000\n",
      "mean fisrt col 5.843333333333335\n",
      "mean fisrt col 5.843333333333335\n",
      "mean of sepallength by class: class\n",
      "Iris-setosa        5.006\n",
      "Iris-versicolor    5.936\n",
      "Iris-virginica     6.588\n",
      "Name: sepallength, dtype: float64\n",
      "means by class                 sepallength  sepalwidth  petallength  petalwidth\n",
      "class                                                            \n",
      "Iris-setosa            5.006       3.418        1.464       0.244\n",
      "Iris-versicolor        5.936       2.770        4.260       1.326\n",
      "Iris-virginica         6.588       2.974        5.552       2.026\n",
      "addres 10.0\n",
      "   sepallength  sepalwidth  petallength  petalwidth        class  \\\n",
      "0          5.1         3.5          1.4         0.2  Iris-setosa   \n",
      "1          4.9         3.0          1.4         0.2  Iris-setosa   \n",
      "2          4.7         3.2          1.3         0.2  Iris-setosa   \n",
      "3          4.6         3.1          1.5         0.2  Iris-setosa   \n",
      "4          5.0         3.6          1.4         0.2  Iris-setosa   \n",
      "\n",
      "   logsepallength  logpetallength  \n",
      "0        1.629241        0.336472  \n",
      "1        1.589235        0.336472  \n",
      "2        1.547563        0.262364  \n",
      "3        1.526056        0.405465  \n",
      "4        1.609438        0.336472  \n",
      "   sepallength  sepalwidth  petallength  petalwidth  logsepallength  \\\n",
      "0         15.1        13.5         11.4        10.2       11.629241   \n",
      "1         14.9        13.0         11.4        10.2       11.589235   \n",
      "2         14.7        13.2         11.3        10.2       11.547563   \n",
      "3         14.6        13.1         11.5        10.2       11.526056   \n",
      "4         15.0        13.6         11.4        10.2       11.609438   \n",
      "\n",
      "   logpetallength        class  \n",
      "0       10.336472  Iris-setosa  \n",
      "1       10.336472  Iris-setosa  \n",
      "2       10.262364  Iris-setosa  \n",
      "3       10.405465  Iris-setosa  \n",
      "4       10.336472  Iris-setosa  \n"
     ]
    }
   ],
   "source": [
    "df = pd.read_csv(\"data/iris.data.csv\")\n",
    "#df=pd.read_csv(\"https://raw.githubusercontent.com/urmi-21/python3-dataScience18/master/data/iris.data.csv\")\n",
    "#see df dimentions\n",
    "print(df.shape)\n",
    "#see datatypes\n",
    "print(df.dtypes)\n",
    "#print first 5 rows\n",
    "print(df.head(5))\n",
    "\n",
    "#get data summary\n",
    "print(\"Data summary\")\n",
    "print (df.describe())\n",
    "\n",
    "#print unique class values\n",
    "df['class'].unique()\n",
    "\n",
    "#get mean sepallength\n",
    "print(\"mean fisrt col \"+str(df['sepallength'].mean()))\n",
    "#refers to first column\n",
    "print(\"mean fisrt col \"+str(df[df.columns[0]].mean()))\n",
    "#find mean of sepallength by class\n",
    "print(\"mean of sepallength by class: \"+str(df.groupby('class')['sepallength'].mean()))\n",
    "#find mean for each class\n",
    "print(\"means by class\"+str(df.groupby('class').mean()))\n",
    "\n",
    "#apply function\n",
    "import math\n",
    "def logX(x):\n",
    "    return math.log(x)\n",
    "df['logsepallength'] = df['sepallength'].apply(logX)\n",
    "df['logpetallength'] = df['petallength'].apply(lambda x: math.log(x))\n",
    "add10=lambda x: x if isinstance(x,object) else x+10\n",
    "print(\"addres \"+str(add10(10.0)))\n",
    "print(df.head(5))\n",
    "\n",
    "#add 10 to all values\n",
    "df2=df.drop('class', axis=1).apply(lambda x: x+10 )\n",
    "df2['class']=df['class']\n",
    "print(df2.head(5))\n",
    "\n",
    "\n"
   ]
  },
  {
   "cell_type": "code",
   "execution_count": null,
   "metadata": {},
   "outputs": [],
   "source": []
  }
 ],
 "metadata": {
  "kernelspec": {
   "display_name": "Python 3",
   "language": "python",
   "name": "python3"
  },
  "language_info": {
   "codemirror_mode": {
    "name": "ipython",
    "version": 3
   },
   "file_extension": ".py",
   "mimetype": "text/x-python",
   "name": "python",
   "nbconvert_exporter": "python",
   "pygments_lexer": "ipython3",
   "version": "3.6.5"
  }
 },
 "nbformat": 4,
 "nbformat_minor": 2
}
