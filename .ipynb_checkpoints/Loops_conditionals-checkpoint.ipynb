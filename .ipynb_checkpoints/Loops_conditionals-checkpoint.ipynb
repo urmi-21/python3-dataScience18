{
 "cells": [
  {
   "cell_type": "markdown",
   "metadata": {},
   "source": []
  },
  {
   "cell_type": "markdown",
   "metadata": {},
   "source": [
    "<h1><center>Conditionals and loops</center></h1>\n",
    "## Introduction\n",
    "Conditional and loop statements give us the ability to control the flow of programs. Using conditional statements we can selectively execute code blocks after checking certain conditions. Using loops we can iterate over statements a number of time. In this lesson we will learn how to write conditional and loop statements in python."
   ]
  },
  {
   "cell_type": "markdown",
   "metadata": {},
   "source": [
    "## Conditional statements\n",
    "\n",
    "### The `if` statement\n",
    "As mentioned before conditional statements enable us to execute or skip code blocks based on a condition. The simplest conditional statement in python is the *if* statement. The general syntax for *if* statement is\n",
    "\n",
    "```if BOOLEAN_EXPRESSION:\n",
    "    statement\n",
    "```\n",
    "\n",
    " In the above code chunk, `statement` will execute only if the value of the `BOOLEAN_EXPRESSION` evaluates to true."
   ]
  },
  {
   "cell_type": "code",
   "execution_count": 23,
   "metadata": {},
   "outputs": [
    {
     "name": "stdout",
     "output_type": "stream",
     "text": [
      "y is greater than 3\n"
     ]
    }
   ],
   "source": [
    "#example of if statement\n",
    "x=2\n",
    "y=4\n",
    "\n",
    "#an if statement block\n",
    "if y>3:\n",
    "    print(\"y is greater than 3\")\n",
    "\n",
    "#another if statement block\n",
    "if x>3:\n",
    "    print(\"x is greater than 3\")\n"
   ]
  },
  {
   "cell_type": "markdown",
   "metadata": {},
   "source": [
    "### The `if-else` statement\n",
    "Often we want to choose between two options. For this case we use *if-else*. The general syntax for *if-else* statement is\n",
    "\n",
    "```if BOOLEAN_EXPRESSION:\n",
    "    statementA\n",
    "   else:\n",
    "    statementB\n",
    "```\n",
    "\n",
    "In the above code chunk, `statementA` will execute only if the value of the `BOOLEAN_EXPRESSION` evaluates to true otherwise `statementB` will be executed."
   ]
  },
  {
   "cell_type": "code",
   "execution_count": 24,
   "metadata": {},
   "outputs": [
    {
     "name": "stdout",
     "output_type": "stream",
     "text": [
      "y is greater than 3\n",
      "x is not greater than 3\n"
     ]
    }
   ],
   "source": [
    "#example of if-else statement\n",
    "if y>3:\n",
    "    print(\"y is greater than 3\")\n",
    "else:\n",
    "    print(\"y is not greater than 3\")\n",
    "    \n",
    "if x>3:\n",
    "    print(\"x is greater than 3\")\n",
    "else:\n",
    "    print(\"x is not greater than 3\")\n"
   ]
  },
  {
   "cell_type": "markdown",
   "metadata": {},
   "source": [
    "### The `if-elif` statement\n",
    "The *if-elif* statement allows to have more than two conditions checked. The general syntax for *if-elif* statement is\n",
    "\n",
    "```if BOOLEAN_EXPRESSION1:\n",
    "       statementA\n",
    "   elif BOOLEAN_EXPRESSION2:\n",
    "       statementB\n",
    "   elif BOOLEAN_EXPRESSION3:\n",
    "       statementC\n",
    "   elif BOOLEAN_EXPRESSION4:\n",
    "       statementD\n",
    "   else:\n",
    "       defaultStatement\n",
    "```\n",
    "\n",
    "The above code chunk checks for 4 coolean expressions and execute the block which first evalues to true. For example if `BOOLEAN_EXPRESSION2` is true `statementB` is executed. If `BOOLEAN_EXPRESSION2` and `BOOLEAN_EXPRESSION3` both are true then also `statementB` is executed as it appears first in the *if-elif* structure. If none of the expressions are true the statement under `else` gets executed. Note that it is optional to have the `else` part.\n"
   ]
  },
  {
   "cell_type": "code",
   "execution_count": 22,
   "metadata": {},
   "outputs": [
    {
     "name": "stdout",
     "output_type": "stream",
     "text": [
      "y is more than 3\n",
      "x is equal to 2\n"
     ]
    }
   ],
   "source": [
    "if y>3:\n",
    "    print(\"y is more than 3\")\n",
    "elif y<3:\n",
    "    print(\"y is less than 3\")\n",
    "\n",
    "if x>2:\n",
    "    print(\"x is more than 2\")\n",
    "elif x<2:\n",
    "    print(\"x is less than 2\")\n",
    "else:\n",
    "    print(\"x is equal to 2\")"
   ]
  },
  {
   "cell_type": "code",
   "execution_count": null,
   "metadata": {},
   "outputs": [],
   "source": []
  }
 ],
 "metadata": {
  "kernelspec": {
   "display_name": "Python 3",
   "language": "python",
   "name": "python3"
  },
  "language_info": {
   "codemirror_mode": {
    "name": "ipython",
    "version": 3
   },
   "file_extension": ".py",
   "mimetype": "text/x-python",
   "name": "python",
   "nbconvert_exporter": "python",
   "pygments_lexer": "ipython3",
   "version": "3.6.5"
  }
 },
 "nbformat": 4,
 "nbformat_minor": 2
}
