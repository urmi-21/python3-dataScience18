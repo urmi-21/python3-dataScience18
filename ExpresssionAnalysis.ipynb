{
 "cells": [
  {
   "cell_type": "markdown",
   "metadata": {},
   "source": [
    "# Data\n",
    "The file *human_small5.csv* contains expression levels of 100 human transcripts over 100 RNA sequencing runs. The file format is as follows:\n",
    "\n",
    "* Each row corresponds to a transcript\n",
    "* The first 15 columns are transcript description columns\n",
    "* The rest 100 columns corresponds to each RNA sequencing run\n",
    "\n",
    "Note: this is a very small subset of the original dataset. The original dataset's dimensions are 1,888,228x8,619\n",
    "\n",
    "First step is to read the data into a dataframe with pandas."
   ]
  },
  {
   "cell_type": "code",
   "execution_count": 2,
   "metadata": {},
   "outputs": [
    {
     "name": "stdout",
     "output_type": "stream",
     "text": [
      "(100, 115)\n",
      "     Transcript id   Source   Gene stable ID Transcript stable ID  \\\n",
      "0  ENST00000482857  ENSEMBL  ENSG00000152689      ENST00000482857   \n",
      "1  ENST00000482858  ENSEMBL  ENSG00000100033      ENST00000482858   \n",
      "2  ENST00000482859  ENSEMBL  ENSG00000241741      ENST00000482859   \n",
      "3  ENST00000482860  ENSEMBL  ENSG00000146963      ENST00000482860   \n",
      "4  ENST00000482861  ENSEMBL  ENSG00000144290      ENST00000482861   \n",
      "\n",
      "                                    Gene description  \\\n",
      "0  RAS guanyl releasing protein 3 [Source:HGNC Sy...   \n",
      "1  proline dehydrogenase 1 [Source:HGNC Symbol;Ac...   \n",
      "2  ribosomal protein L7a pseudogene 30 [Source:HG...   \n",
      "3  LUC7 like 2; pre-mRNA splicing factor [Source:...   \n",
      "4  solute carrier family 4 member 10 [Source:HGNC...   \n",
      "\n",
      "   Transcript length (including UTRs and CDS) Gene name Transcript name  \\\n",
      "0                                         688   RASGRP3     RASGRP3-214   \n",
      "1                                        4676     PRODH       PRODH-211   \n",
      "2                                         796  RPL7AP30    RPL7AP30-201   \n",
      "3                                        2599    LUC7L2      LUC7L2-206   \n",
      "4                                         583   SLC4A10     SLC4A10-209   \n",
      "\n",
      "   Gene % GC content             Gene type     ...     SRR3090408 SRR3090459  \\\n",
      "0              40.76        protein_coding     ...            0.0   0.000000   \n",
      "1              58.95        protein_coding     ...            0.0   0.000000   \n",
      "2              53.27  processed_pseudogene     ...            0.0   0.000000   \n",
      "3              40.36        protein_coding     ...            0.0   4.339212   \n",
      "4              35.91        protein_coding     ...            0.0   0.000000   \n",
      "\n",
      "  SRR2133252  SRR645769 SRR4052856  SRR3593307  SRR4051015  SRR2735903  \\\n",
      "0   0.000000        0.0        0.0    0.000000    0.000000         0.0   \n",
      "1   0.000000        0.0        0.0    0.000000    0.000000         0.0   \n",
      "2   0.000000        0.0        0.0    0.000000    1.083538         0.0   \n",
      "3  10.369752        0.0        0.0   14.810282    0.000000         0.0   \n",
      "4   0.000000        0.0        0.0    0.000000    0.000000         0.0   \n",
      "\n",
      "   SRR2964052  SRR1056401  \n",
      "0           0    2.684870  \n",
      "1           0    0.000000  \n",
      "2           0    0.763615  \n",
      "3           0   45.058796  \n",
      "4           0    0.000000  \n",
      "\n",
      "[5 rows x 115 columns]\n"
     ]
    }
   ],
   "source": [
    "# Import the `pandas` library as `pd`\n",
    "import pandas as pd\n",
    "\n",
    "\n",
    "#read data file\n",
    "df = pd.read_csv(\"data/human_small5.csv\")\n",
    "\n",
    "#see df dimentions\n",
    "print(df.shape)\n",
    "\n",
    "#print first 5 rows\n",
    "print(df.head(5))"
   ]
  },
  {
   "cell_type": "markdown",
   "metadata": {},
   "source": [
    "## Column names\n",
    "Our data has has columns of type *object* and *float*. The first 15 columns are only description columns and rest are the data columns. Save these columns into two different lists so that its easier to access only data columns to perform mathematical operations."
   ]
  },
  {
   "cell_type": "code",
   "execution_count": 8,
   "metadata": {},
   "outputs": [
    {
     "name": "stdout",
     "output_type": "stream",
     "text": [
      "Index(['Transcript id', 'Source', 'Gene stable ID', 'Transcript stable ID',\n",
      "       'Gene description', 'Transcript length (including UTRs and CDS)',\n",
      "       'Gene name', 'Transcript name', 'Gene % GC content', 'Gene type',\n",
      "       'Protein stable ID', 'Ensembl Family Description', 'Pfam domain ID',\n",
      "       'RFAM transcript name ID', 'Interpro Short Description'],\n",
      "      dtype='object')\n",
      "Index(['SRR3362406', 'SRR4044997', 'SRR3616971', 'SRR2963615', 'SRR5366356',\n",
      "       'SRR2963313', 'SRR2964288', 'SRR4052832', 'SRR2964130', 'SRR4052927',\n",
      "       'SRR645773', 'SRR857237', 'SRR2313095', 'SRR4050956', 'SRR2963586',\n",
      "       'SRR2963434', 'SRR2939143', 'SRR903263', 'SRR4050737', 'SRR2964133',\n",
      "       'SRR2963820', 'SRR2963277', 'SRR3593406', 'SRR4050892', 'SRR2963008',\n",
      "       'SRR2964588', 'SRR2963718', 'SRR3090249', 'SRR2964480', 'SRR1313209',\n",
      "       'SRR315336', 'SRR3090560', 'SRR3157890', 'SRR3362438', 'SRR1602519',\n",
      "       'SRR2314045', 'SRR5038621', 'SRR4050661', 'SRR903214', 'SRR4052754',\n",
      "       'SRR2963029', 'SRR2963407', 'SRR2965196', 'SRR2963301', 'SRR2735787',\n",
      "       'SRR3593239', 'SRR2963321', 'SRR1768932', 'SRR3649344', 'SRR3593267',\n",
      "       'SRR5041139', 'SRR2964958', 'SRR4050660', 'SRR2964212', 'SRR3593230',\n",
      "       'SRR2962999', 'SRR4050559', 'SRR2963763', 'SRR3090183', 'SRR1186242',\n",
      "       'SRR5337127', 'SRR575151', 'SRR2963036', 'SRR2015721', 'SRR2965397',\n",
      "       'SRR3950962', 'SRR5337142', 'SRR3362425', 'SRR2964094', 'SRR1810678',\n",
      "       'SRR2964164', 'SRR2965048', 'SRR4050453', 'SRR3090116', 'SRR2963148',\n",
      "       'SRR5337120', 'SRR3510009', 'SRR4050901', 'SRR575160', 'SRR5235967',\n",
      "       'SRR2735960', 'SRR4050804', 'SRR4050669', 'SRR3090089', 'SRR2964156',\n",
      "       'SRR3090205', 'SRR2964515', 'SRR2963001', 'SRR1810688', 'SRR5235934',\n",
      "       'SRR3090408', 'SRR3090459', 'SRR2133252', 'SRR645769', 'SRR4052856',\n",
      "       'SRR3593307', 'SRR4051015', 'SRR2735903', 'SRR2964052', 'SRR1056401'],\n",
      "      dtype='object')\n"
     ]
    }
   ],
   "source": [
    "infoCols=df.columns[:15]\n",
    "print (infoCols)\n",
    "dataCols=df.columns[15:]\n",
    "print (dataCols)\n"
   ]
  },
  {
   "cell_type": "markdown",
   "metadata": {},
   "source": [
    "## Clean data\n",
    "Remove any transcripts (rows) where mean expression level is less than 0.05 for all the runs. Display the info data of the transcripts removed."
   ]
  },
  {
   "cell_type": "code",
   "execution_count": 45,
   "metadata": {},
   "outputs": [
    {
     "name": "stdout",
     "output_type": "stream",
     "text": [
      "11    ENST00000482869\n",
      "Name: Transcript id, dtype: object\n",
      "15    ENST00000482873\n",
      "Name: Transcript id, dtype: object\n",
      "25    ENST00000482886\n",
      "Name: Transcript id, dtype: object\n",
      "27    ENST00000482888\n",
      "Name: Transcript id, dtype: object\n",
      "31    ENST00000482892\n",
      "Name: Transcript id, dtype: object\n",
      "43    ENST00000482909\n",
      "Name: Transcript id, dtype: object\n",
      "54    ENST00000482920\n",
      "Name: Transcript id, dtype: object\n",
      "60    ENST00000482928\n",
      "Name: Transcript id, dtype: object\n",
      "62    ENST00000482930\n",
      "Name: Transcript id, dtype: object\n",
      "64    ENST00000482932\n",
      "Name: Transcript id, dtype: object\n",
      "70    ENST00000482938\n",
      "Name: Transcript id, dtype: object\n",
      "71    ENST00000482939\n",
      "Name: Transcript id, dtype: object\n",
      "77    ENST00000482946\n",
      "Name: Transcript id, dtype: object\n",
      "82    ENST00000482951\n",
      "Name: Transcript id, dtype: object\n",
      "88    ENST00000482957\n",
      "Name: Transcript id, dtype: object\n",
      "91    ENST00000482961\n",
      "Name: Transcript id, dtype: object\n",
      "(84, 115)\n"
     ]
    },
    {
     "data": {
      "text/html": [
       "<div>\n",
       "<style scoped>\n",
       "    .dataframe tbody tr th:only-of-type {\n",
       "        vertical-align: middle;\n",
       "    }\n",
       "\n",
       "    .dataframe tbody tr th {\n",
       "        vertical-align: top;\n",
       "    }\n",
       "\n",
       "    .dataframe thead th {\n",
       "        text-align: right;\n",
       "    }\n",
       "</style>\n",
       "<table border=\"1\" class=\"dataframe\">\n",
       "  <thead>\n",
       "    <tr style=\"text-align: right;\">\n",
       "      <th></th>\n",
       "      <th>Transcript id</th>\n",
       "      <th>Source</th>\n",
       "      <th>Gene stable ID</th>\n",
       "      <th>Transcript stable ID</th>\n",
       "      <th>Gene description</th>\n",
       "      <th>Transcript length (including UTRs and CDS)</th>\n",
       "      <th>Gene name</th>\n",
       "      <th>Transcript name</th>\n",
       "      <th>Gene % GC content</th>\n",
       "      <th>Gene type</th>\n",
       "      <th>...</th>\n",
       "      <th>SRR3090408</th>\n",
       "      <th>SRR3090459</th>\n",
       "      <th>SRR2133252</th>\n",
       "      <th>SRR645769</th>\n",
       "      <th>SRR4052856</th>\n",
       "      <th>SRR3593307</th>\n",
       "      <th>SRR4051015</th>\n",
       "      <th>SRR2735903</th>\n",
       "      <th>SRR2964052</th>\n",
       "      <th>SRR1056401</th>\n",
       "    </tr>\n",
       "  </thead>\n",
       "  <tbody>\n",
       "  </tbody>\n",
       "</table>\n",
       "<p>0 rows × 115 columns</p>\n",
       "</div>"
      ],
      "text/plain": [
       "Empty DataFrame\n",
       "Columns: [Transcript id, Source, Gene stable ID, Transcript stable ID, Gene description, Transcript length (including UTRs and CDS), Gene name, Transcript name, Gene % GC content, Gene type, Protein stable ID, Ensembl Family Description, Pfam domain ID, RFAM transcript name ID, Interpro Short Description, SRR3362406, SRR4044997, SRR3616971, SRR2963615, SRR5366356, SRR2963313, SRR2964288, SRR4052832, SRR2964130, SRR4052927, SRR645773, SRR857237, SRR2313095, SRR4050956, SRR2963586, SRR2963434, SRR2939143, SRR903263, SRR4050737, SRR2964133, SRR2963820, SRR2963277, SRR3593406, SRR4050892, SRR2963008, SRR2964588, SRR2963718, SRR3090249, SRR2964480, SRR1313209, SRR315336, SRR3090560, SRR3157890, SRR3362438, SRR1602519, SRR2314045, SRR5038621, SRR4050661, SRR903214, SRR4052754, SRR2963029, SRR2963407, SRR2965196, SRR2963301, SRR2735787, SRR3593239, SRR2963321, SRR1768932, SRR3649344, SRR3593267, SRR5041139, SRR2964958, SRR4050660, SRR2964212, SRR3593230, SRR2962999, SRR4050559, SRR2963763, SRR3090183, SRR1186242, SRR5337127, SRR575151, SRR2963036, SRR2015721, SRR2965397, SRR3950962, SRR5337142, SRR3362425, SRR2964094, SRR1810678, SRR2964164, SRR2965048, SRR4050453, SRR3090116, SRR2963148, SRR5337120, SRR3510009, SRR4050901, SRR575160, SRR5235967, SRR2735960, SRR4050804, SRR4050669, SRR3090089, SRR2964156, ...]\n",
       "Index: []\n",
       "\n",
       "[0 rows x 115 columns]"
      ]
     },
     "execution_count": 45,
     "metadata": {},
     "output_type": "execute_result"
    }
   ],
   "source": [
    "# find rows where sum over all data columns is zero\n",
    "rowstoDrop=[]\n",
    "for i in range(df.shape[0]):\n",
    "    thisRsum=df.iloc[[i]][dataCols].sum(axis=1).sum()\n",
    "    if thisRsum<5:\n",
    "        print(df.iloc[[i]]['Transcript id'])\n",
    "        rowstoDrop.append(i)\n",
    "\n",
    "df_2=df.drop(rowstoDrop)\n",
    "print(df_2.shape)\n",
    "#check rows columns were removed\n",
    "df_2[df_2[\"Transcript id\"]==\"ENST00000482920\"]\n",
    "\n",
    "        "
   ]
  },
  {
   "cell_type": "markdown",
   "metadata": {},
   "source": [
    "Remove any data columns (columns) where expression for all transcripts is 0. Display the columns removed (if any)."
   ]
  },
  {
   "cell_type": "code",
   "execution_count": 64,
   "metadata": {},
   "outputs": [
    {
     "name": "stdout",
     "output_type": "stream",
     "text": [
      "SRR2963313\n",
      "SRR2964130\n",
      "SRR2963586\n",
      "SRR2964133\n",
      "SRR2963820\n",
      "SRR2963008\n",
      "SRR2964588\n",
      "SRR2963718\n",
      "SRR2965196\n",
      "SRR2964212\n",
      "SRR2965397\n",
      "SRR2964164\n",
      "SRR2963148\n",
      "SRR2964156\n",
      "SRR2964052\n",
      "['SRR2963313', 'SRR2964130', 'SRR2963586', 'SRR2964133', 'SRR2963820', 'SRR2963008', 'SRR2964588', 'SRR2963718', 'SRR2965196', 'SRR2964212', 'SRR2965397', 'SRR2964164', 'SRR2963148', 'SRR2964156', 'SRR2964052']\n"
     ]
    },
    {
     "data": {
      "text/plain": [
       "False"
      ]
     },
     "execution_count": 64,
     "metadata": {},
     "output_type": "execute_result"
    }
   ],
   "source": [
    "# find rows where sum over all data columns is zero\n",
    "colstoDrop=[]\n",
    "for d in dataCols:\n",
    "    thisCsum=df_2[d].sum()\n",
    "    #print(d,thisCsum)\n",
    "    if thisCsum<=0:\n",
    "        print(d)\n",
    "        colstoDrop.append(d)\n",
    "\n",
    "print(colstoDrop)\n",
    "#drop all the columns in the list\n",
    "df_3=df_2.drop(colstoDrop,axis=1)\n",
    "\n",
    "#check if columns are removed\n",
    "\"SRR2963313\" in df_3.columns\n",
    "#OR check if all are removed\n",
    "\n",
    "if(!set(colstoDrop).intersection(df_3.columns)):\n",
    "    print(\"All remo\")\n"
   ]
  },
  {
   "cell_type": "code",
   "execution_count": null,
   "metadata": {},
   "outputs": [],
   "source": []
  }
 ],
 "metadata": {
  "kernelspec": {
   "display_name": "Python 3",
   "language": "python",
   "name": "python3"
  },
  "language_info": {
   "codemirror_mode": {
    "name": "ipython",
    "version": 3
   },
   "file_extension": ".py",
   "mimetype": "text/x-python",
   "name": "python",
   "nbconvert_exporter": "python",
   "pygments_lexer": "ipython3",
   "version": "3.6.5"
  }
 },
 "nbformat": 4,
 "nbformat_minor": 2
}
