{
 "cells": [
  {
   "cell_type": "markdown",
   "metadata": {},
   "source": [
    "# Conditional and Loops\n",
    "\n",
    "1. Given a number, find its factorial i.e. n\\* n-1\\* n-2 \\*...\\* 1. Hint: use loop.\n",
    "\n"
   ]
  },
  {
   "cell_type": "code",
   "execution_count": null,
   "metadata": {},
   "outputs": [],
   "source": [
    "#Don't change this\n",
    "#Thanks Yuan Wang, BCB for the dict code\n",
    "geneticCode = {\"UUU\":\"F\", \"UUC\":\"F\", \"UUA\":\"L\", \"UUG\":\"L\",\n",
    "              \"UCU\":\"S\", \"UCC\":\"s\", \"UCA\":\"S\", \"UCG\":\"S\",\n",
    "              \"UAU\":\"Y\", \"UAC\":\"Y\", \"UAG\":\"STOP\",\n",
    "              \"UGU\":\"C\", \"UGC\":\"C\", \"UGA\":\"STOP\", \"UGG\":\"W\",\n",
    "              \"CUU\":\"L\", \"CUC\":\"L\", \"CUA\":\"L\", \"CUG\":\"L\",\n",
    "              \"CCU\":\"P\", \"CCC\":\"P\", \"CCA\":\"P\", \"CCG\":\"P\",\n",
    "              \"CAU\":\"H\", \"CAC\":\"H\", \"CAA\":\"Q\", \"CAG\":\"Q\",\n",
    "              \"CGU\":\"R\", \"CGC\":\"R\", \"CGA\":\"R\", \"CGG\":\"R\",\n",
    "              \"AUU\":\"I\", \"AUC\":\"I\", \"AUA\":\"I\", \"AUG\":\"M\",\n",
    "              \"ACU\":\"T\", \"ACC\":\"T\", \"ACA\":\"T\", \"ACG\":\"T\",\n",
    "              \"AAU\":\"N\", \"AAC\":\"N\", \"AAA\":\"K\", \"AAG\":\"K\",\n",
    "              \"AGU\":\"S\", \"AGC\":\"S\", \"AGA\":\"R\", \"AGG\":\"R\",\n",
    "              \"GUU\":\"V\", \"GUC\":\"V\", \"GUA\":\"V\", \"GUG\":\"V\",\n",
    "              \"GCU\":\"A\", \"GCC\":\"A\", \"GCA\":\"A\", \"GCG\":\"A\",\n",
    "              \"GAU\":\"D\", \"GAC\":\"D\", \"GAA\":\"E\", \"GAG\":\"E\",\n",
    "              \"GGU\":\"G\", \"GGC\":\"G\", \"GGA\":\"G\", }\n",
    "\n",
    "'''\n",
    "Above \"geneticCode\" is a dict which maps an RNA codon to an amino acid letter. Same from excercise 2.\n",
    "'''\n",
    "\n",
    "dnaCodons=['ATG','TTT','TTG','CTC','ATT','ATG','GTA','TAC','TAA','TAG','CAT','CAC','CAA','AAC','AAG','GAT','TGC','TGA','TGG','CGA','AGC','AGG','GGG']\n",
    "\n"
   ]
  },
  {
   "cell_type": "markdown",
   "metadata": {},
   "source": [
    "2. dnaCodons is a list of valid codons. Using a for loop iterate over this list and print corresponding amino acid.\n",
    "Hint: The dict geneticCode is defined for RNA codons you will have to first convert the given DNA codons to RNA codons. To this replace all 'T' with 'U'. You may want to use str.replace() function\n",
    "\n",
    "3. If you did step 1 correctly you will notice two \"STOP\" in your amino acid sequence. Biologically, the \"Stop\" codons mark te end of a peptide. Use an if condition to skip printing of the \"Stop\" codon. Can you do the same using a continue statement?\n",
    "Hint: the codons that will result in a stop codon are \"UAG\" and \"UGA\".\n",
    "\n",
    "\n",
    "***Bonus Question***\n",
    "\n",
    "Open Reading Frame (ORF): An ORF is defined as the sequence which has the ability to be translated into a protein. An ORF start with a start codon i.e \"ATG\" and\n",
    "ends with any of the stop codons i.e. \"TAG\" or \"TGA\". Where a codon is defined as sub-sequence of length 3 in a given sequence. To keep things simple we scan in\n",
    "only one direction  and in only one frame (don't worry if you don't know these terms) to find the possible ORF. e.g. in the sequence AAATTTATGAGCTTTCATCATTAGGGTTTG\n",
    "the ORF has the codons are ATG AGC TTT CAT CAT i.e. three letters taken at a time starting from the start codon till the stop codon is reached (not printed). \n",
    "\n",
    "dnaSeq='AAATTTATGAGCTTTCATCATTAGGGTTTG'\n"
   ]
  },
  {
   "cell_type": "code",
   "execution_count": null,
   "metadata": {},
   "outputs": [],
   "source": []
  }
 ],
 "metadata": {
  "kernelspec": {
   "display_name": "Python 3",
   "language": "python",
   "name": "python3"
  },
  "language_info": {
   "codemirror_mode": {
    "name": "ipython",
    "version": 3
   },
   "file_extension": ".py",
   "mimetype": "text/x-python",
   "name": "python",
   "nbconvert_exporter": "python",
   "pygments_lexer": "ipython3",
   "version": "3.6.5"
  }
 },
 "nbformat": 4,
 "nbformat_minor": 2
}
