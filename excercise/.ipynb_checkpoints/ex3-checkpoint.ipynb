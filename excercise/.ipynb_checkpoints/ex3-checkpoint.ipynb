{
 "cells": [
  {
   "cell_type": "markdown",
   "metadata": {},
   "source": [
    "# File I/O\n",
    "\n",
    "The file **names** contain names of transcripts and another file **lengths** contains coressponding lengths of the transcripts.\n",
    "\n",
    "\n",
    "1. Read the two files into two lists names and lengths\n",
    "\n",
    "2. Which transcript are biggest and shortest\n",
    "\n",
    "3. How many transcripts have the same length. Save results as a file e.g. n transcripts have length x and so on\n",
    " [Hint: Use sets]"
   ]
  },
  {
   "cell_type": "code",
   "execution_count": null,
   "metadata": {},
   "outputs": [],
   "source": []
  }
 ],
 "metadata": {
  "kernelspec": {
   "display_name": "Python 3",
   "language": "python",
   "name": "python3"
  },
  "language_info": {
   "codemirror_mode": {
    "name": "ipython",
    "version": 3
   },
   "file_extension": ".py",
   "mimetype": "text/x-python",
   "name": "python",
   "nbconvert_exporter": "python",
   "pygments_lexer": "ipython3",
   "version": "3.6.5"
  }
 },
 "nbformat": 4,
 "nbformat_minor": 2
}
