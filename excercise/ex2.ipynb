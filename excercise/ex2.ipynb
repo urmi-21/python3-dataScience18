{
 "cells": [
  {
   "cell_type": "markdown",
   "metadata": {},
   "source": [
    "# Functions\n",
    "\n",
    "1. We know the function *len()* returns the length of a string. Define a function that takes a string as an argument\n",
    " and prints its squared length. E.g. if input to function is 'ABCD' return value should be 16.\n",
    "\n",
    "\n",
    "2. Write another function that takes two strings as arguments and returns the sum of square of lengths of the two Strings.\n",
    " E.g. if in put to function is 'ABC' and 'DE' return value should be 9+4=13.\n",
    "\n",
    "\n",
    "3. Define a term \"pythagorean string triplets\" as set of three strings such that squared length of any one is\n",
    " equal to the sum of the squared lengths of other two. Given three strings check whether they form a pythagorean string triplet.\n",
    " \n",
    "[Hint: You don't have to check each possible combination, just check if the largest string's squared length is equal to sum of squared lengths of the other two.]"
   ]
  },
  {
   "cell_type": "code",
   "execution_count": null,
   "metadata": {},
   "outputs": [],
   "source": []
  }
 ],
 "metadata": {
  "kernelspec": {
   "display_name": "Python 3",
   "language": "python",
   "name": "python3"
  },
  "language_info": {
   "codemirror_mode": {
    "name": "ipython",
    "version": 3
   },
   "file_extension": ".py",
   "mimetype": "text/x-python",
   "name": "python",
   "nbconvert_exporter": "python",
   "pygments_lexer": "ipython3",
   "version": "3.6.5"
  }
 },
 "nbformat": 4,
 "nbformat_minor": 2
}
