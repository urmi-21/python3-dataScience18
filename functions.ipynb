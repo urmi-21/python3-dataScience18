{
 "cells": [
  {
   "cell_type": "markdown",
   "metadata": {},
   "source": [
    "<h1><center>Functions</center></h1>\n",
    "## Introduction\n",
    "\n",
    "Functions allow to group a number of statements together is a code block. This code block can then be called from any where in the program as required. Functions allows to create modular code which is easy to reuse. Functions can also take a number of parameters. The value calculated by the function then depends on the parameters supplied at the time of function call. Depending on the function type and definition, a function can return a value of different types. A function returns a value if a *return* statement is included at the end of the function body. If a *return* statement is missing from the function body the function by default returns *None*.\n",
    "\n",
    "In python a function is defined using *def* statement. The general syntax of a function named *functionA* with *N* parameters looks like\n",
    "\n",
    "```\n",
    "def functionA(parameter1,paramenter2,...,parameterN):\n",
    "    statementA\n",
    "    statementB\n",
    "    statementC\n",
    "    .\n",
    "    .\n",
    "    .\n",
    "    statementN\n",
    "    return returnValue\n",
    "```"
   ]
  },
  {
   "cell_type": "code",
   "execution_count": 3,
   "metadata": {},
   "outputs": [
    {
     "name": "stdout",
     "output_type": "stream",
     "text": [
      "Hi, Welcome!\n",
      "Please Enter your name: urmi\n",
      "How are you, urmi\n",
      "Goodbye...\n"
     ]
    }
   ],
   "source": [
    "#this function takes no argument, returns None\n",
    "def printWelcome():\n",
    "    print (\"Hi, Welcome!\")\n",
    "#this function takes no argument, returns a str object\n",
    "def getName():\n",
    "    name=input(\"Please Enter your name: \")\n",
    "    return name\n",
    "#this function takes a str object, returns None\n",
    "def printMessage(name):\n",
    "    print (\"How are you, \"+name)\n",
    "#this function takes no argument, returns None\n",
    "def printGoodbye():\n",
    "    print (\"Goodbye...\")\n",
    "\n",
    "\n",
    "\n",
    "\n",
    "#####Call the functions######\n",
    "printWelcome()\n",
    "user=getName()\n",
    "printMessage(user)\n",
    "printGoodbye()"
   ]
  },
  {
   "cell_type": "code",
   "execution_count": null,
   "metadata": {},
   "outputs": [],
   "source": []
  }
 ],
 "metadata": {
  "kernelspec": {
   "display_name": "Python 3",
   "language": "python",
   "name": "python3"
  },
  "language_info": {
   "codemirror_mode": {
    "name": "ipython",
    "version": 3
   },
   "file_extension": ".py",
   "mimetype": "text/x-python",
   "name": "python",
   "nbconvert_exporter": "python",
   "pygments_lexer": "ipython3",
   "version": "3.6.5"
  }
 },
 "nbformat": 4,
 "nbformat_minor": 2
}
