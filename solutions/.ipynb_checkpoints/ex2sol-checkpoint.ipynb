{
 "cells": [
  {
   "cell_type": "code",
   "execution_count": 2,
   "metadata": {},
   "outputs": [
    {
     "name": "stdout",
     "output_type": "stream",
     "text": [
      "9\n"
     ]
    }
   ],
   "source": [
    "#1. We know len() returns the length of a string. Define a function that takes a string as an argument\n",
    "# and prints its squared length. E.g. if input to function is 'ABCD' return value should be 16.\n",
    "\n",
    "def lenSquare(s):\n",
    "    return len(s)**2\n",
    "\n",
    "\n",
    "s='abc'\n",
    "print (lenSquare(s))"
   ]
  },
  {
   "cell_type": "code",
   "execution_count": 6,
   "metadata": {},
   "outputs": [
    {
     "data": {
      "text/plain": [
       "9"
      ]
     },
     "execution_count": 6,
     "metadata": {},
     "output_type": "execute_result"
    }
   ],
   "source": [
    "getLen=lambda s: len(s)**2\n",
    "getLen(s)"
   ]
  },
  {
   "cell_type": "code",
   "execution_count": 2,
   "metadata": {},
   "outputs": [
    {
     "name": "stdout",
     "output_type": "stream",
     "text": [
      "25\n",
      "25\n"
     ]
    }
   ],
   "source": [
    "#2. Write another function that takes two strings as arguments and returns the sum of square of lengths of the two Strings.\n",
    "# E.g. if in put to function is 'ABC' and 'DE' return value should be 9+4=13.\n",
    "\n",
    "def lenSquare2(t,u):\n",
    "    return len(t)**2+len(u)**2\n",
    "\n",
    "t='dafg'\n",
    "u='vwxyz'\n",
    "\n",
    "print (lenSquare2(s,t))\n",
    "print (lenSquare(u))"
   ]
  },
  {
   "cell_type": "code",
   "execution_count": 3,
   "metadata": {},
   "outputs": [
    {
     "name": "stdout",
     "output_type": "stream",
     "text": [
      "Found Pythagorean string triplets\n"
     ]
    }
   ],
   "source": [
    "#3. Let me define a term \"Pythagorean string triplets\" as set of three strings such that squared length of any one is\n",
    "# equal to the sum of the squared lengths of other two. Given three strings check whether they form a pythagorean string triplet.\n",
    "# Hint: You don't have to check each possible combination, just check if the largest string's squared length is equal to\n",
    "# sum of squared lengths of the other two.\n",
    "\n",
    "#find largest string\n",
    "largest=t\n",
    "if len(s) > len(t) and len(s) > len(u):\n",
    "    if lenSquare2(t,u)==lenSquare(s):\n",
    "        print ('Found Pythagorean string triplets')\n",
    "elif len(u) > len(s) and len(u) > len(t):\n",
    "    if lenSquare2(s,t)==lenSquare(u):\n",
    "        print ('Found Pythagorean string triplets')\n",
    "\n",
    "if lenSquare2(u,s)==lenSquare(t):\n",
    "        print ('Found Pythagorean string triplets')"
   ]
  },
  {
   "cell_type": "code",
   "execution_count": null,
   "metadata": {},
   "outputs": [],
   "source": []
  }
 ],
 "metadata": {
  "kernelspec": {
   "display_name": "Python 3",
   "language": "python",
   "name": "python3"
  },
  "language_info": {
   "codemirror_mode": {
    "name": "ipython",
    "version": 3
   },
   "file_extension": ".py",
   "mimetype": "text/x-python",
   "name": "python",
   "nbconvert_exporter": "python",
   "pygments_lexer": "ipython3",
   "version": "3.6.5"
  }
 },
 "nbformat": 4,
 "nbformat_minor": 2
}
